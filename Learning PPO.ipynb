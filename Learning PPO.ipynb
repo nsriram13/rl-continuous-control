{
 "cells": [
  {
   "cell_type": "code",
   "execution_count": null,
   "metadata": {},
   "outputs": [],
   "source": [
    "%load_ext autoreload\n",
    "%autoreload"
   ]
  },
  {
   "cell_type": "code",
   "execution_count": null,
   "metadata": {},
   "outputs": [],
   "source": [
    "import torch\n",
    "import numpy as np\n",
    "\n",
    "from collections import deque\n",
    "from unityagents import UnityEnvironment\n",
    "from deeprl_cc.agent import PPOAgent"
   ]
  },
  {
   "cell_type": "code",
   "execution_count": null,
   "metadata": {},
   "outputs": [],
   "source": [
    "MAX_EPISODES = 20\n",
    "ROLLOUT_LENGTH = 250\n",
    "SCORE_WINDOW_SIZE = 100\n",
    "MEAN_SCORE_WINDOW_TARGET = 30"
   ]
  },
  {
   "cell_type": "code",
   "execution_count": null,
   "metadata": {},
   "outputs": [],
   "source": [
    "def interact(action):\n",
    "    action = action.reshape(num_agents, action_size)\n",
    "    env_info = env.step(action)[brain_name]\n",
    "    next_state, reward, done = env_info.vector_observations, env_info.rewards, env_info.local_done\n",
    "    return next_state.reshape(num_agents, -1), np.array(reward).reshape(num_agents, -1), np.array(done).reshape(num_agents, -1)\n",
    "\n",
    "def reset():\n",
    "    state = env.reset()[brain_name].vector_observations.reshape(num_agents, -1)\n",
    "    return state"
   ]
  },
  {
   "cell_type": "code",
   "execution_count": null,
   "metadata": {},
   "outputs": [],
   "source": [
    "env = UnityEnvironment(file_name=\"Reacher.app\")\n",
    "\n",
    "# get the default brain\n",
    "brain_name = env.brain_names[0]\n",
    "brain = env.brains[brain_name]\n",
    "\n",
    "# reset the environment\n",
    "env_info = env.reset(train_mode=True)[brain_name]\n",
    "\n",
    "# number of agents\n",
    "num_agents = len(env_info.agents)\n",
    "print('Number of agents:', num_agents)\n",
    "\n",
    "# size of each action\n",
    "action_size = brain.vector_action_space_size\n",
    "print('Size of each action:', action_size)\n",
    "\n",
    "# examine the state space \n",
    "states = env_info.vector_observations\n",
    "state_size = states.shape[1]\n",
    "print('There are {} agents. Each observes a state with length: {}'.format(states.shape[0], state_size))\n",
    "print('The state for the first agent looks like:', states[0])"
   ]
  },
  {
   "cell_type": "code",
   "execution_count": null,
   "metadata": {},
   "outputs": [],
   "source": [
    "agent = PPOAgent(state_dim=state_size, action_dim=action_size, num_agents=num_agents)\n",
    "states, episode_return, episode_length = reset(), np.zeros(num_agents), 0"
   ]
  },
  {
   "cell_type": "code",
   "execution_count": null,
   "metadata": {},
   "outputs": [],
   "source": [
    "# My implementation\n",
    "# Main loop: collect experience in env and update/log each epoch\n",
    "\n",
    "scores = []                                            # list containing scores from each episode\n",
    "scores_window = deque(maxlen=SCORE_WINDOW_SIZE)        # last 100 scores\n",
    "    \n",
    "for i_episode in range(MAX_EPISODES):\n",
    "    for t in range(ROLLOUT_LENGTH):\n",
    "        actions, values, logp = agent.propose_action(torch.as_tensor(states, dtype=torch.float32))\n",
    "\n",
    "        next_states, rewards, dones = interact(actions)\n",
    "        episode_return += rewards.squeeze()\n",
    "        episode_length += 1\n",
    "\n",
    "        # save and log\n",
    "        agent.train(states, actions, rewards.squeeze(), values.squeeze(), logp.squeeze(), dones.squeeze())\n",
    "\n",
    "        # Update obs (critical!)\n",
    "        states = next_states\n",
    "\n",
    "        terminal = dones.any()\n",
    "        episode_ended = t==ROLLOUT_LENGTH-1\n",
    "\n",
    "        if terminal or episode_ended:\n",
    "            print(f'Episode: {i_episode}, Reward this episode:{np.mean(episode_return)}, Scores: {np.mean(scores_window)}')\n",
    "            scores_window.append(np.mean(episode_return))       # save most recent score\n",
    "            scores.append(np.mean(episode_return))              # save most recent score\n",
    "            states, episode_return, episode_length = reset(), np.zeros(num_agents), 0\n",
    "        \n",
    "        if np.mean(scores_window)>=MEAN_SCORE_WINDOW_TARGET:\n",
    "            print('\\nEnvironment solved in {:d} episodes!\\tAverage Score: {:.2f}'.format(i_episode-100, np.mean(scores_window)))\n",
    "            episodes_solved_in = i_episode-100"
   ]
  },
  {
   "cell_type": "code",
   "execution_count": null,
   "metadata": {},
   "outputs": [],
   "source": []
  }
 ],
 "metadata": {
  "kernelspec": {
   "display_name": "drlnd",
   "language": "python",
   "name": "drlnd"
  },
  "language_info": {
   "codemirror_mode": {
    "name": "ipython",
    "version": 3
   },
   "file_extension": ".py",
   "mimetype": "text/x-python",
   "name": "python",
   "nbconvert_exporter": "python",
   "pygments_lexer": "ipython3",
   "version": "3.6.12"
  }
 },
 "nbformat": 4,
 "nbformat_minor": 4
}
